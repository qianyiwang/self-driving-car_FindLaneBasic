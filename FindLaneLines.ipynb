{
 "cells": [
  {
   "cell_type": "markdown",
   "metadata": {},
   "source": [
    "# Project: Finding Lines On the Road\n",
    "- **Environment: python 3.6**"
   ]
  },
  {
   "cell_type": "markdown",
   "metadata": {},
   "source": [
    "## Ideas of lane detection pipeline\n",
    " - cv2.inRange() for color selection\n",
    " - cv2.fillPoly() for regions selection\n",
    " - cv2.line() to draw lines on an image\n",
    " - cv2.addWeighted() to coadd/overlay two images\n",
    " - cv2.imwrite() to output images to file\n",
    " - cv2.itwise_and() to apply a mask to an image"
   ]
  },
  {
   "cell_type": "markdown",
   "metadata": {},
   "source": [
    "## Import packages"
   ]
  },
  {
   "cell_type": "code",
   "execution_count": 114,
   "metadata": {},
   "outputs": [],
   "source": [
    "import numpy as np\n",
    "import cv2\n",
    "import matplotlib.pyplot as plt\n",
    "import math"
   ]
  },
  {
   "cell_type": "markdown",
   "metadata": {},
   "source": [
    "## Read image and convert to gray scale"
   ]
  },
  {
   "cell_type": "code",
   "execution_count": 115,
   "metadata": {},
   "outputs": [],
   "source": [
    "def readImage(path):\n",
    "    image = cv2.imread(path)\n",
    "    return image\n",
    "\n",
    "def grayscale(img):\n",
    "    return cv2.cvtColor(img, cv2.COLOR_RGB2GRAY)\n",
    "\n",
    "def drawImage(img):\n",
    "    plt.imshow(img)"
   ]
  },
  {
   "cell_type": "markdown",
   "metadata": {},
   "source": [
    "## Find edge"
   ]
  },
  {
   "cell_type": "code",
   "execution_count": 116,
   "metadata": {},
   "outputs": [],
   "source": [
    "def gaussian_blur(img, kernal_size):\n",
    "    return cv2.GaussianBlur(img, (kernal_size, kernal_size), 0)\n",
    "    \n",
    "def findEdge(img, low_threshold, high_threshold):\n",
    "    return cv2.Canny(img, low_threshold, high_threshold)"
   ]
  },
  {
   "cell_type": "markdown",
   "metadata": {},
   "source": [
    "## Find region of interests"
   ]
  },
  {
   "cell_type": "code",
   "execution_count": 117,
   "metadata": {},
   "outputs": [],
   "source": [
    "def regionOfInterest(img, vertices):\n",
    "    mask = np.zeros_like(img)\n",
    "    #defining a 3 channel or 1 channel color to fill the mask with depending on the input image\n",
    "    if len(img.shape) > 2:\n",
    "        channel_count = img.shape[2]  # i.e. 3 or 4 depending on your image\n",
    "        ignore_mask_color = (255,) * channel_count\n",
    "    else:\n",
    "        ignore_mask_color = 255\n",
    "    #filling pixels inside the polygon defined by \"vertices\" with the fill color    \n",
    "    cv2.fillPoly(mask, vertices, ignore_mask_color)\n",
    "    #returning the image only where mask pixels are nonzero\n",
    "    masked_image = cv2.bitwise_and(img, mask)\n",
    "    return masked_image"
   ]
  },
  {
   "cell_type": "markdown",
   "metadata": {},
   "source": [
    "## Hough lines\n",
    " - lines = cv2.HoughLinesP(masked_edges, rho, theta, threshold, np.array([]),min_line_length, max_line_gap)\n",
    " - rho in units of pixels and theta in units of radians, rho takes a minimum value of 1, and a reasonable starting place for theta is 1 degree (pi/180 in radians).\n",
    " - the threshold parameter specifies the minimum number of votes (intersections in a given grid cell) \n",
    " - the empty np.array([]) is just a placeholder, no need to change it.\n",
    " - min_line_length is the minimum length of a line (in pixels) that you will accept in the output, \n",
    " - max_line_gap is the maximum distance (again, in pixels) between segments that you will allow to be connected into a single line. \n"
   ]
  },
  {
   "cell_type": "code",
   "execution_count": 118,
   "metadata": {},
   "outputs": [],
   "source": [
    "def hough_lines(img, rho, theta, threshold, min_line_len, max_line_gap):\n",
    "    # Returns an image with hough lines drawn.\n",
    "    lines = cv2.HoughLinesP(img, rho, theta, threshold, np.array([]), minLineLength=min_line_len, maxLineGap=max_line_gap)\n",
    "    line_img = np.zeros((img.shape[0], img.shape[1], 3), dtype=np.uint8)\n",
    "    draw_lines(line_img, lines)\n",
    "    return line_img"
   ]
  },
  {
   "cell_type": "markdown",
   "metadata": {},
   "source": [
    "## Draw lines on image"
   ]
  },
  {
   "cell_type": "code",
   "execution_count": 119,
   "metadata": {},
   "outputs": [],
   "source": [
    "def draw_lines(img, lines, color=[0, 0, 255], thickness=2):\n",
    "    for line in lines:\n",
    "        for x1,y1,x2,y2 in line:\n",
    "            cv2.line(img, (x1, y1), (x2, y2), color, thickness)"
   ]
  },
  {
   "cell_type": "code",
   "execution_count": 120,
   "metadata": {},
   "outputs": [],
   "source": [
    "def weighted_img(img, initial_img, α=0.8, β=1., γ=0.):\n",
    "    \"\"\"\n",
    "    `img` is the output of the hough_lines(), An image with lines drawn on it.\n",
    "    Should be a blank image (all black) with lines drawn on it.\n",
    "    \n",
    "    `initial_img` should be the image before any processing.\n",
    "    \n",
    "    The result image is computed as follows:\n",
    "    \n",
    "    initial_img * α + img * β + γ\n",
    "    NOTE: initial_img and img must be the same shape!\n",
    "    \"\"\"\n",
    "    return cv2.addWeighted(initial_img, α, img, β, γ)"
   ]
  },
  {
   "cell_type": "markdown",
   "metadata": {},
   "source": [
    "## Save images"
   ]
  },
  {
   "cell_type": "code",
   "execution_count": 121,
   "metadata": {},
   "outputs": [],
   "source": [
    "def saveImg(img, path):\n",
    "    try:\n",
    "        cv2.imwrite(path, img)\n",
    "    except Exception as e:\n",
    "        print('same image error',e)"
   ]
  },
  {
   "cell_type": "markdown",
   "metadata": {},
   "source": [
    "## Test images\n",
    " - Build your pipeline that will draw lane lines on the test_images\n",
    " - Save them to the test_images_output directory."
   ]
  },
  {
   "cell_type": "code",
   "execution_count": 122,
   "metadata": {},
   "outputs": [
    {
     "name": "stderr",
     "output_type": "stream",
     "text": [
      "100%|██████████| 6/6 [00:00<00:00, 43.45it/s]\n"
     ]
    }
   ],
   "source": [
    "import os\n",
    "from tqdm import tqdm \n",
    "DIR = 'test_images'\n",
    "for name in tqdm(os.listdir(DIR)):\n",
    "    path = os.path.join(DIR, name)\n",
    "    image = readImage(path)\n",
    "    gray = grayscale(image)\n",
    "    edge = findEdge(gaussian_blur(gray,3), 100, 200)\n",
    "    # create vertices and roi image\n",
    "    left_bottom = (0, image.shape[0])\n",
    "    right_bottom = (image.shape[1], image.shape[0])\n",
    "    left_top = (image.shape[1]/3, image.shape[0]*2/3)\n",
    "    right_top = (image.shape[1]*2/3, image.shape[0]*2/3)\n",
    "    vertices = np.array([[left_top, right_top, right_bottom, left_bottom]], dtype=np.int32)\n",
    "    maskedImage = regionOfInterest(edge, vertices)\n",
    "    \n",
    "    # create hough lines\n",
    "    rho = 1\n",
    "    theta = np.pi/180\n",
    "    threshold = 1\n",
    "    min_line_length = 30\n",
    "    max_line_gap = 10\n",
    "    line_img = hough_lines(maskedImage, rho, theta, \n",
    "                        threshold, min_line_length, max_line_gap)\n",
    "    \n",
    "    # draw on image\n",
    "    result = weighted_img(line_img, image)\n",
    "    saveImg(result, f'test_image_output/{name}.jpg')"
   ]
  }
 ],
 "metadata": {
  "kernelspec": {
   "display_name": "Python 3",
   "language": "python",
   "name": "python3"
  },
  "language_info": {
   "codemirror_mode": {
    "name": "ipython",
    "version": 3
   },
   "file_extension": ".py",
   "mimetype": "text/x-python",
   "name": "python",
   "nbconvert_exporter": "python",
   "pygments_lexer": "ipython3",
   "version": "3.6.6"
  }
 },
 "nbformat": 4,
 "nbformat_minor": 2
}
