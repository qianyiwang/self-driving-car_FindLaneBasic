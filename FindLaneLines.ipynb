{
 "cells": [
  {
   "cell_type": "markdown",
   "metadata": {},
   "source": [
    "# Project: Finding Lines On the Road\n",
    "- **Environment: python 3.6**"
   ]
  },
  {
   "cell_type": "markdown",
   "metadata": {},
   "source": [
    "## Ideas of lane detection pipeline\n",
    " - cv2.inRange() for color selection\n",
    " - cv2.fillPoly() for regions selection\n",
    " - cv2.line() to draw lines on an image\n",
    " - cv2.addWeighted() to coadd/overlay two images\n",
    " - cv2.imwrite() to output images to file\n",
    " - cv2.itwise_and() to apply a mask to an image"
   ]
  },
  {
   "cell_type": "markdown",
   "metadata": {},
   "source": [
    "## Import packages"
   ]
  },
  {
   "cell_type": "code",
   "execution_count": 655,
   "metadata": {},
   "outputs": [],
   "source": [
    "import numpy as np\n",
    "import cv2\n",
    "import matplotlib.pyplot as plt\n",
    "import math"
   ]
  },
  {
   "cell_type": "markdown",
   "metadata": {},
   "source": [
    "## Read image and convert to gray scale"
   ]
  },
  {
   "cell_type": "code",
   "execution_count": 656,
   "metadata": {},
   "outputs": [],
   "source": [
    "def readImage(path):\n",
    "    image = cv2.imread(path)\n",
    "    return image\n",
    "\n",
    "def grayscale(img):\n",
    "    return cv2.cvtColor(img, cv2.COLOR_RGB2GRAY)\n",
    "\n",
    "def drawImage(img):\n",
    "    plt.imshow(img)"
   ]
  },
  {
   "cell_type": "markdown",
   "metadata": {},
   "source": [
    "## Find edge"
   ]
  },
  {
   "cell_type": "code",
   "execution_count": 657,
   "metadata": {},
   "outputs": [],
   "source": [
    "def gaussian_blur(img, kernal_size):\n",
    "    return cv2.GaussianBlur(img, (kernal_size, kernal_size), 0)\n",
    "    \n",
    "def findEdge(img, low_threshold, high_threshold):\n",
    "    return cv2.Canny(img, low_threshold, high_threshold)"
   ]
  },
  {
   "cell_type": "markdown",
   "metadata": {},
   "source": [
    "## Find region of interests"
   ]
  },
  {
   "cell_type": "code",
   "execution_count": 658,
   "metadata": {},
   "outputs": [],
   "source": [
    "def regionOfInterest(img, vertices):\n",
    "    mask = np.zeros_like(img)\n",
    "    #defining a 3 channel or 1 channel color to fill the mask with depending on the input image\n",
    "    if len(img.shape) > 2:\n",
    "        channel_count = img.shape[2]  # i.e. 3 or 4 depending on your image\n",
    "        ignore_mask_color = (255,) * channel_count\n",
    "    else:\n",
    "        ignore_mask_color = 255\n",
    "    #filling pixels inside the polygon defined by \"vertices\" with the fill color    \n",
    "    cv2.fillPoly(mask, vertices, ignore_mask_color)\n",
    "    #returning the image only where mask pixels are nonzero\n",
    "    masked_image = cv2.bitwise_and(img, mask)\n",
    "    return masked_image"
   ]
  },
  {
   "cell_type": "markdown",
   "metadata": {},
   "source": [
    "## Hough lines\n",
    " - lines = cv2.HoughLinesP(masked_edges, rho, theta, threshold, np.array([]),min_line_length, max_line_gap)\n",
    " - rho in units of pixels and theta in units of radians, rho takes a minimum value of 1, and a reasonable starting place for theta is 1 degree (pi/180 in radians).\n",
    " - the threshold parameter specifies the minimum number of votes (intersections in a given grid cell) \n",
    " - the empty np.array([]) is just a placeholder, no need to change it.\n",
    " - min_line_length is the minimum length of a line (in pixels) that you will accept in the output, \n",
    " - max_line_gap is the maximum distance (again, in pixels) between segments that you will allow to be connected into a single line. \n"
   ]
  },
  {
   "cell_type": "code",
   "execution_count": 659,
   "metadata": {},
   "outputs": [],
   "source": [
    "def hough_lines(img, rho, theta, threshold, min_line_len, max_line_gap):\n",
    "    # Returns an image with hough lines drawn.\n",
    "    lines = cv2.HoughLinesP(img, rho, theta, threshold, np.array([]), minLineLength=min_line_len, maxLineGap=max_line_gap)\n",
    "#     line_img = np.zeros((img.shape[0], img.shape[1], 3), dtype=np.uint8)\n",
    "#     draw_lines(line_img, lines)\n",
    "    return lines"
   ]
  },
  {
   "cell_type": "markdown",
   "metadata": {},
   "source": [
    "## Find best line\n",
    " - First, find the main lines. \n",
    " - Next, find the groups of lines that are similar to eachother (by comparing slope and bias), and save these as \"the same line.\" \n",
    " - Next, take the two most common lines, and assume these must be our lanes. After we've done ROI, the next most likely \"line\" just simply is almost certain to be the lanes. That's the hypothesis anyway!\n",
    "\n",
    "**ms (slop) value is very important for finding lines**"
   ]
  },
  {
   "cell_type": "code",
   "execution_count": 660,
   "metadata": {},
   "outputs": [],
   "source": [
    "from numpy import ones,vstack\n",
    "from numpy.linalg import lstsq\n",
    "from statistics import mean\n",
    "\n",
    "def findBestLines(shape, lines):\n",
    "    try:\n",
    "        ys = []  \n",
    "        for i in lines:\n",
    "            for ii in i:\n",
    "                ys += [ii[1],ii[3]]\n",
    "        min_y = min(ys)\n",
    "        max_y = shape[0]\n",
    "        new_lines = []\n",
    "        line_dict = {}\n",
    "        for idx,i in enumerate(lines):\n",
    "            for xyxy in i:\n",
    "                x_coords = (xyxy[0],xyxy[2])\n",
    "                y_coords = (xyxy[1],xyxy[3])\n",
    "                A = vstack([x_coords,ones(len(x_coords))]).T\n",
    "                m, b = lstsq(A, y_coords)[0]\n",
    "\n",
    "                # Calculating our new, and improved, xs\n",
    "                x1 = (min_y-b) / m\n",
    "                x2 = (max_y-b) / m\n",
    "\n",
    "                line_dict[idx] = [m,b,[int(x1), min_y, int(x2), max_y]]\n",
    "        final_lanes = {}\n",
    "\n",
    "        for idx in line_dict:\n",
    "            final_lanes_copy = final_lanes.copy()\n",
    "            m = line_dict[idx][0]\n",
    "            b = line_dict[idx][1]\n",
    "            line = line_dict[idx][2]\n",
    "            \n",
    "            if len(final_lanes) == 0:\n",
    "                final_lanes[m] = [ [m,b,line] ]\n",
    "                \n",
    "            else:\n",
    "                found_copy = False\n",
    "\n",
    "                for other_ms in final_lanes_copy:\n",
    "\n",
    "                    if not found_copy:\n",
    "                        leftLineSlop = 1.1\n",
    "                        rightLineSlop = 0.93\n",
    "                        if abs(other_ms*leftLineSlop) > abs(m) > abs(other_ms*rightLineSlop):\n",
    "                            if abs(final_lanes_copy[other_ms][0][1]*leftLineSlop) > abs(b) > abs(final_lanes_copy[other_ms][0][1]*rightLineSlop):\n",
    "                                final_lanes[other_ms].append([m,b,line])\n",
    "                                found_copy = True\n",
    "                                break\n",
    "                        else:\n",
    "                            final_lanes[m] = [ [m,b,line] ]\n",
    "        line_counter = {}\n",
    "\n",
    "        for lanes in final_lanes:\n",
    "            line_counter[lanes] = len(final_lanes[lanes])\n",
    "        top_lanes = sorted(line_counter.items(), key=lambda item: item[1])[::-1][:2]\n",
    "#         print('debug',top_lanes,len(top_lanes))\n",
    "        if(len(top_lanes)==2):\n",
    "            lane1_id = top_lanes[0][0]\n",
    "            lane2_id = top_lanes[1][0]\n",
    "        else:\n",
    "            lane1_id = top_lanes[0][0]\n",
    "            lane2_id = top_lanes[0][0]\n",
    "\n",
    "        def average_lane(lane_data):\n",
    "            x1s = []\n",
    "            y1s = []\n",
    "            x2s = []\n",
    "            y2s = []\n",
    "            for data in lane_data:\n",
    "                x1s.append(data[2][0])\n",
    "                y1s.append(data[2][1])\n",
    "                x2s.append(data[2][2])\n",
    "                y2s.append(data[2][3])\n",
    "            return int(mean(x1s)), int(mean(y1s)), int(mean(x2s)), int(mean(y2s)) \n",
    "\n",
    "        l1_x1, l1_y1, l1_x2, l1_y2 = average_lane(final_lanes[lane1_id])\n",
    "        l2_x1, l2_y1, l2_x2, l2_y2 = average_lane(final_lanes[lane2_id])\n",
    "\n",
    "        return [l1_x1, l1_y1, l1_x2, l1_y2], [l2_x1, l2_y1, l2_x2, l2_y2]\n",
    "    \n",
    "    except Exception as e:\n",
    "        print(str(e))"
   ]
  },
  {
   "cell_type": "markdown",
   "metadata": {},
   "source": [
    "## Draw lines on image"
   ]
  },
  {
   "cell_type": "code",
   "execution_count": 661,
   "metadata": {},
   "outputs": [],
   "source": [
    "def draw_lines(shape, lines, color=[0, 0, 255], thickness=3):\n",
    "    line_img = np.zeros((shape[0], shape[1], 3), dtype=np.uint8)\n",
    "    try:\n",
    "        for line in lines:\n",
    "            cv2.line(line_img, (line[0], line[1]), (line[2], line[3]), color, thickness)\n",
    "        return line_img\n",
    "    except Exception as e:\n",
    "        print('draw lines error:',e)"
   ]
  },
  {
   "cell_type": "code",
   "execution_count": 662,
   "metadata": {},
   "outputs": [],
   "source": [
    "def weighted_img(img, initial_img, α=0.8, β=1., γ=0.):\n",
    "    \"\"\"\n",
    "    `img` is the output of the hough_lines(), An image with lines drawn on it.\n",
    "    Should be a blank image (all black) with lines drawn on it.\n",
    "    \n",
    "    `initial_img` should be the image before any processing.\n",
    "    \n",
    "    The result image is computed as follows:\n",
    "    \n",
    "    initial_img * α + img * β + γ\n",
    "    NOTE: initial_img and img must be the same shape!\n",
    "    \"\"\"\n",
    "    try:\n",
    "        return cv2.addWeighted(initial_img, α, img, β, γ)\n",
    "    except Exception as e:\n",
    "        print('weighted_image err:',e)"
   ]
  },
  {
   "cell_type": "markdown",
   "metadata": {},
   "source": [
    "## Save images"
   ]
  },
  {
   "cell_type": "code",
   "execution_count": 663,
   "metadata": {},
   "outputs": [],
   "source": [
    "def saveImg(img, path):\n",
    "    try:\n",
    "        cv2.imwrite(path, img)\n",
    "    except Exception as e:\n",
    "        print('same image error',e)"
   ]
  },
  {
   "cell_type": "markdown",
   "metadata": {},
   "source": [
    "## Test images\n",
    " - Build your pipeline that will draw lane lines on the test_images\n",
    " - Save them to the test_images_output directory."
   ]
  },
  {
   "cell_type": "code",
   "execution_count": 664,
   "metadata": {},
   "outputs": [
    {
     "name": "stderr",
     "output_type": "stream",
     "text": [
      "UsageError: Cell magic `%%cache` not found.\n"
     ]
    }
   ],
   "source": [
    "import os\n",
    "from tqdm import tqdm \n",
    "\n",
    "DIR = 'test_images'\n",
    "for name in tqdm(os.listdir(DIR)):\n",
    "    path = os.path.join(DIR, name)\n",
    "    image = readImage(path)\n",
    "    gray = grayscale(image)\n",
    "    edge = findEdge(gaussian_blur(gray,3), 150, 300)\n",
    "    # create vertices and roi image\n",
    "    left_bottom = (0, image.shape[0])\n",
    "    right_bottom = (image.shape[1], image.shape[0])\n",
    "    left_top = (image.shape[1]/3, image.shape[0]*2/3)\n",
    "    right_top = (image.shape[1]*2/3, image.shape[0]*2/3)\n",
    "    vertices = np.array([[left_top, right_top, right_bottom, left_bottom]], dtype=np.int32)\n",
    "    maskedImage = regionOfInterest(edge, vertices)\n",
    "    \n",
    "    # create hough lines\n",
    "    rho = 1\n",
    "    theta = np.pi/180\n",
    "    threshold = 1\n",
    "    min_line_length = 20\n",
    "    max_line_gap = 15\n",
    "    lines = hough_lines(maskedImage, rho, theta, \n",
    "                        threshold, min_line_length, max_line_gap)\n",
    "    print('========')\n",
    "    bestLines = findBestLines(image.shape, lines)\n",
    "    print('bestlines',bestLines)\n",
    "    line_img = draw_lines(image.shape, bestLines)\n",
    "    # draw on image\n",
    "    result = weighted_img(line_img, image)\n",
    "    saveImg(result, f'test_image_output/{name}.jpg')\n",
    "#     plt.imshow(result)\n",
    "#     break"
   ]
  },
  {
   "cell_type": "markdown",
   "metadata": {},
   "source": [
    "## Test on videos\n",
    " - To speed up the testing process you may want to try your pipeline on a shorter subclip of the video\n",
    " - To do so add .subclip(start_second,end_second) to the end of the line below\n",
    " - Where start_second and end_second are integer values representing the start and end of the subclip\n",
    " - You may also uncomment the following line for a subclip of the first 5 seconds\n",
    " - clip1 = VideoFileClip(\"test_videos/solidWhiteRight.mp4\").subclip(0,5)"
   ]
  },
  {
   "cell_type": "code",
   "execution_count": null,
   "metadata": {},
   "outputs": [],
   "source": [
    "def process_image(img, white_output):\n",
    "    pass"
   ]
  },
  {
   "cell_type": "code",
   "execution_count": null,
   "metadata": {},
   "outputs": [],
   "source": [
    "# Import everything needed to edit/save/watch video clips\n",
    "from moviepy.editor import VideoFileClip\n",
    "from IPython.display import HTML\n",
    "# import os\n",
    "\n",
    "file_path = 'test_videos/solidWhiteRight.mp4'\n",
    "white_output = 'test_videos_output/solidWhiteRight.mp4'\n",
    "\n",
    "clip1 = VideoFileClip(file_path)\n",
    "white_clip = clip1.fl_image(process_image) #NOTE: this function expects color images!!\n",
    "white_clip.write_videofile(white_output, audio=False)      "
   ]
  }
 ],
 "metadata": {
  "kernelspec": {
   "display_name": "Python 3",
   "language": "python",
   "name": "python3"
  },
  "language_info": {
   "codemirror_mode": {
    "name": "ipython",
    "version": 3
   },
   "file_extension": ".py",
   "mimetype": "text/x-python",
   "name": "python",
   "nbconvert_exporter": "python",
   "pygments_lexer": "ipython3",
   "version": "3.6.6"
  }
 },
 "nbformat": 4,
 "nbformat_minor": 2
}
